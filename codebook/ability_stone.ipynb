{
 "cells": [
  {
   "cell_type": "code",
   "execution_count": 85,
   "metadata": {},
   "outputs": [],
   "source": [
    "import numpy as np\n",
    "\n",
    "prob = [0.75, 0.65, 0.55, 0.45, 0.35, 0.25]\n",
    "\n",
    "table_97 = np.zeros((11, 11, 11, 11, 11, 11, 6))\n",
    "table_77 = np.zeros((11, 11, 11, 11, 11, 11, 6))\n",
    "\n",
    "for e1_active in range(10, -1, -1):\n",
    "    for e1_try in range(10, -1, -1):\n",
    "        for e2_active in range(10, -1, -1):\n",
    "            for e2_try in range(10, -1, -1):\n",
    "                for e3_active in range(10, -1, -1):\n",
    "                    for e3_try in range(10, -1, -1):\n",
    "                        for p in range(6):\n",
    "                            if (e1_active >= 9 and e2_active >= 7) and e3_active <= 4:\n",
    "                                table_97[e1_active, e1_try, e2_active, e2_try, e3_active, e3_try, p] = 1.\n",
    "                            elif e3_active >= 5:\n",
    "                                table_97[e1_active, e1_try, e2_active, e2_try, e3_active, e3_try, p] = 0.\n",
    "                            else:\n",
    "                                prob1 = 0\n",
    "                                prob2 = 0\n",
    "                                prob3 = 0\n",
    "                                \n",
    "                                if e1_active <= 9 and e1_try <= 9:\n",
    "                                    prob1 = (prob[p] * table_97[e1_active+1, e1_try+1, e2_active, e2_try, e3_active, e3_try, p+1 if p+1 <= 5 else p]) \\\n",
    "                                            + ((1 - prob[p]) * table_97[e1_active, e1_try+1, e2_active, e2_try, e3_active, e3_try, p-1 if p-1 >= 0 else p])\n",
    "                                \n",
    "                                if e2_active <= 9 and e2_try <= 9:\n",
    "                                    prob2 = (prob[p] * table_97[e1_active, e1_try, e2_active+1, e2_try+1, e3_active, e3_try, p+1 if p+1 <= 5 else p]) \\\n",
    "                                            + ((1 - prob[p]) * table_97[e1_active, e1_try, e2_active, e2_try+1, e3_active, e3_try, p-1 if p-1 >= 0 else p])\n",
    "                                \n",
    "                                if e3_active <= 9 and e3_try <= 9:\n",
    "                                    prob3 = (prob[p] * table_97[e1_active, e1_try, e2_active, e2_try, e3_active+1, e3_try+1, p+1 if p+1 <= 5 else p]) \\\n",
    "                                            + ((1 - prob[p]) * table_97[e1_active, e1_try, e2_active, e2_try, e3_active, e3_try+1, p-1 if p-1 >= 0 else p])\n",
    "                                \n",
    "                                table_97[e1_active, e1_try, e2_active, e2_try, e3_active, e3_try, p] = max(prob1, prob2, prob3)\n",
    "                            \n",
    "for e1_active in range(10, -1, -1):\n",
    "    for e1_try in range(10, -1, -1):\n",
    "        for e2_active in range(10, -1, -1):\n",
    "            for e2_try in range(10, -1, -1):\n",
    "                for e3_active in range(10, -1, -1):\n",
    "                    for e3_try in range(10, -1, -1):\n",
    "                        for p in range(6):\n",
    "                            if ((e1_active >= 7 and e2_active >= 7) or (e1_active >= 7 and e2_active >= 7)) and e3_active <= 4:\n",
    "                                table_77[e1_active, e1_try, e2_active, e2_try, e3_active, e3_try, p] = 1.\n",
    "                            elif e3_active >= 5:\n",
    "                                table_77[e1_active, e1_try, e2_active, e2_try, e3_active, e3_try, p] = 0.\n",
    "                            else:\n",
    "                                prob1 = 0\n",
    "                                prob2 = 0\n",
    "                                prob3 = 0\n",
    "                                \n",
    "                                if e1_active <= 9 and e1_try <= 9:\n",
    "                                    prob1 = (prob[p] * table_77[e1_active+1, e1_try+1, e2_active, e2_try, e3_active, e3_try, p+1 if p+1 <= 5 else p]) \\\n",
    "                                            + ((1 - prob[p]) * table_77[e1_active, e1_try+1, e2_active, e2_try, e3_active, e3_try, p-1 if p-1 >= 0 else p])\n",
    "                                \n",
    "                                if e2_active <= 9 and e2_try <= 9:\n",
    "                                    prob2 = (prob[p] * table_77[e1_active, e1_try, e2_active+1, e2_try+1, e3_active, e3_try, p+1 if p+1 <= 5 else p]) \\\n",
    "                                            + ((1 - prob[p]) * table_77[e1_active, e1_try, e2_active, e2_try+1, e3_active, e3_try, p-1 if p-1 >= 0 else p])\n",
    "                                \n",
    "                                if e3_active <= 9 and e3_try <= 9:\n",
    "                                    prob3 = (prob[p] * table_77[e1_active, e1_try, e2_active, e2_try, e3_active+1, e3_try+1, p+1 if p+1 <= 5 else p]) \\\n",
    "                                            + ((1 - prob[p]) * table_77[e1_active, e1_try, e2_active, e2_try, e3_active, e3_try+1, p-1 if p-1 >= 0 else p])\n",
    "                                \n",
    "                                table_77[e1_active, e1_try, e2_active, e2_try, e3_active, e3_try, p] = max(prob1, prob2, prob3)\n"
   ]
  },
  {
   "cell_type": "code",
   "execution_count": 86,
   "metadata": {},
   "outputs": [],
   "source": [
    "np.save(\"table_97\", table_97.astype(np.float16))\n",
    "np.save(\"table_77\", table_77.astype(np.float16))"
   ]
  },
  {
   "cell_type": "code",
   "execution_count": 87,
   "metadata": {},
   "outputs": [
    {
     "name": "stdout",
     "output_type": "stream",
     "text": [
      "0.0007075081308810115\n",
      "0.0007075081308810115\n",
      "0.000595877659292558\n",
      "0.00029130702219244616\n"
     ]
    }
   ],
   "source": [
    "print(table_97[0, 0, 0, 0, 0, 0, 0])\n",
    "\n",
    "print((0.75 * table_97[1, 1, 0, 0, 0, 0, 1]) + ((1-0.75) * table_97[0, 1, 0, 0, 0, 0, 0]))\n",
    "print((0.75 * table_97[0, 0, 1, 1, 0, 0, 1]) + ((1-0.75) * table_97[0, 0, 0, 1, 0, 0, 0]))\n",
    "print((0.75 * table_97[0, 0, 0, 0, 1, 1, 1]) + ((1-0.75) * table_97[0, 0, 0, 0, 0, 1, 0]))"
   ]
  },
  {
   "cell_type": "code",
   "execution_count": 80,
   "metadata": {},
   "outputs": [
    {
     "name": "stdout",
     "output_type": "stream",
     "text": [
      "0.04815232787846371\n"
     ]
    }
   ],
   "source": [
    "print(table_77[0, 0, 0, 0, 0, 0, 0])"
   ]
  }
 ],
 "metadata": {
  "kernelspec": {
   "display_name": ".venv",
   "language": "python",
   "name": "python3"
  },
  "language_info": {
   "codemirror_mode": {
    "name": "ipython",
    "version": 3
   },
   "file_extension": ".py",
   "mimetype": "text/x-python",
   "name": "python",
   "nbconvert_exporter": "python",
   "pygments_lexer": "ipython3",
   "version": "3.11.4"
  }
 },
 "nbformat": 4,
 "nbformat_minor": 2
}
